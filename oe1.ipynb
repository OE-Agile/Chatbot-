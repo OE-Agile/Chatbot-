{
 "cells": [
  {
   "cell_type": "code",
   "execution_count": 1,
   "metadata": {},
   "outputs": [
    {
     "name": "stdout",
     "output_type": "stream",
     "text": [
      "Defaulting to user installation because normal site-packages is not writeable\n",
      "Requirement already satisfied: pyspellchecker in c:\\users\\madhav polakampalli\\appdata\\roaming\\python\\python312\\site-packages (0.7.2)\n"
     ]
    },
    {
     "name": "stderr",
     "output_type": "stream",
     "text": [
      "\n",
      "[notice] A new release of pip is available: 23.3.1 -> 24.0\n",
      "[notice] To update, run: python.exe -m pip install --upgrade pip\n"
     ]
    }
   ],
   "source": [
    "!pip install pyspellchecker"
   ]
  },
  {
   "cell_type": "markdown",
   "metadata": {},
   "source": []
  },
  {
   "cell_type": "code",
   "execution_count": 2,
   "metadata": {},
   "outputs": [],
   "source": [
    "import re\n",
    "import numpy as np\n",
    "import random\n",
    "import nltk\n",
    "import string\n",
    "from contextlib2 import suppress\n",
    "from nltk import sent_tokenize, word_tokenize, pos_tag, ne_chunk\n",
    "from spellchecker import SpellChecker"
   ]
  },
  {
   "cell_type": "code",
   "execution_count": 3,
   "metadata": {},
   "outputs": [
    {
     "name": "stderr",
     "output_type": "stream",
     "text": [
      "[nltk_data] Downloading package punkt to C:\\Users\\Madhav\n",
      "[nltk_data]     Polakampalli\\AppData\\Roaming\\nltk_data...\n",
      "[nltk_data]   Package punkt is already up-to-date!\n",
      "[nltk_data] Downloading package wordnet to C:\\Users\\Madhav\n",
      "[nltk_data]     Polakampalli\\AppData\\Roaming\\nltk_data...\n",
      "[nltk_data]   Package wordnet is already up-to-date!\n",
      "[nltk_data] Downloading package omw-1.4 to C:\\Users\\Madhav\n",
      "[nltk_data]     Polakampalli\\AppData\\Roaming\\nltk_data...\n",
      "[nltk_data]   Package omw-1.4 is already up-to-date!\n",
      "[nltk_data] Downloading package averaged_perceptron_tagger to\n",
      "[nltk_data]     C:\\Users\\Madhav\n",
      "[nltk_data]     Polakampalli\\AppData\\Roaming\\nltk_data...\n",
      "[nltk_data]   Package averaged_perceptron_tagger is already up-to-\n",
      "[nltk_data]       date!\n",
      "[nltk_data] Downloading package words to C:\\Users\\Madhav\n",
      "[nltk_data]     Polakampalli\\AppData\\Roaming\\nltk_data...\n",
      "[nltk_data]   Package words is already up-to-date!\n",
      "[nltk_data] Downloading package maxent_ne_chunker to C:\\Users\\Madhav\n",
      "[nltk_data]     Polakampalli\\AppData\\Roaming\\nltk_data...\n",
      "[nltk_data]   Package maxent_ne_chunker is already up-to-date!\n"
     ]
    },
    {
     "data": {
      "text/plain": [
       "True"
      ]
     },
     "execution_count": 3,
     "metadata": {},
     "output_type": "execute_result"
    }
   ],
   "source": [
    "nltk.download('punkt')\n",
    "nltk.download('wordnet')\n",
    "nltk.download('omw-1.4')\n",
    "nltk.download('averaged_perceptron_tagger')\n",
    "nltk.download('words')\n",
    "nltk.download('maxent_ne_chunker')"
   ]
  },
  {
   "cell_type": "code",
   "execution_count": 4,
   "metadata": {},
   "outputs": [],
   "source": [
    "f= open(r\"D:\\downloads\\WhatsApp Chat with newme (4).txt\", 'r',errors = 'ignore')\n",
    "raw_doc=f.read()"
   ]
  },
  {
   "cell_type": "code",
   "execution_count": 5,
   "metadata": {},
   "outputs": [],
   "source": [
    "raw_doc = raw_doc.lower()"
   ]
  },
  {
   "cell_type": "code",
   "execution_count": 6,
   "metadata": {},
   "outputs": [],
   "source": [
    "sentence_tokens = nltk.sent_tokenize(raw_doc)\n",
    "word_tokens = nltk.word_tokenize(raw_doc)"
   ]
  },
  {
   "cell_type": "code",
   "execution_count": 7,
   "metadata": {},
   "outputs": [
    {
     "name": "stdout",
     "output_type": "stream",
     "text": [
      "[\"choose your concern below and let's get them sorted!\", \"ðÿ˜ž where's my order?ðÿ¤” help with return?ðÿ“¦ refund check?ðÿ’¸ cancel my orderðÿ™…â€â™‚ï¸ talk to newme ðÿ™‹â€â™€ï¸\\nwhere's my order?ðÿ¤”\\noh no!\", \"let's get to the bottom of this.\", \"when did you order  it's been a week?\", 'ðÿ‘œover 15 days?', 'ðÿ˜•?', \"ðÿ—“ï¸ðÿ•µï¸â€â™€ï¸\\n\\nit's been a week?\", 'we know waiting can be tough, but our clothes are worth it!', 'standard delivery takes *10-15 business days.', '* thanks for supporting newme.', 'â¤ï¸\\n\\nis there anything else that you need my help in?', 'chat with a rep ðÿ’¬\\n\\n\\n8/23/23, 10:28â€¯am - ayusha: hey, i need help with my order 429336\\nhey newmeog!', \"what's up?\", \"choose your concern below and let's get them sorted!\", \"ðÿ˜ž where's my order?ðÿ¤” help with return?ðÿ“¦ refund check?ðÿ’¸ cancel my orderðÿ™…â€â™‚ï¸ talk to newme ðÿ™‹â€â™€ï¸\\nwhere's my order?ðÿ¤”\\noh no!\", \"let's get to the bottom of this.\", 'when did you order?', \"it's been a week?\", 'ðÿ‘œover 15 days?', \"ðÿ˜•\\n\\nit's been a week?\", 'ðÿ‘œwe know waiting can be tough, but our clothes are worth it!', 'standard delivery takes *10-15 business days.', '* thanks for supporting newme.', 'â¤ï¸\\n\\n\\n8/26/23, 11:44â€¯pm - this business is now using a secure service from meta to manage this chat.', 'tap to learn more.', '8/26/23, 11:44â€¯pm - ayusha: hey, i need help with my order 429336\\n8/26/23, 11:44â€¯pm - newme: hey newmeog!', \"what's up?\", \"8/26/23, 11:44â€¯pm - newme: choose your concern below and let's get them sorted!\", \"ðÿ˜ž where's my order?ðÿ¤” help with return?ðÿ“¦ refund check?ðÿ’¸ cancel my orderðÿ™…â€â™‚ï¸ talk to newme ðÿ™‹â€â™€ï¸\\n8/26/23, 11:44â€¯pm - ayusha: where's my order?ðÿ¤”\\n8/26/23, 11:44â€¯pm - newme: \\noh no!\", \"let's get to the bottom of this.\", 'when did you order?', \"ðÿ—“ï¸ðÿ•µï¸â€â™€ï¸\\nbutton 1: it's been a week?\", 'ðÿ‘œ\\nbutton 2: over 15 days?', 'ðÿ˜•\\n\\n8/26/23, 11:44â€¯pm - ayusha: over 15 days?', \"ðÿ˜•\\n8/26/23, 11:44â€¯pm - newme: we're sorry for the delay in your order.\", \"let's connect you to our support team so we can get things sorted out asap.\", 'âš¡ï¸\\n8/26/23, 11:44â€¯pm - newme: please help us with your order id or phone number?', 'like the example above, your order id is a 6 digit number, mentioned in your invoice.', 'for example: 984576\\n8/26/23, 11:44â€¯pm - newme: <media omitted>\\n8/26/23, 11:45â€¯pm - ayusha: 429336\\n8/26/23, 11:45â€¯pm - newme: hey there!', 'thanks for reaching out!', \"we're currently offline.\", \"don't worry though, we'll be back at 10 am tomorrow.\", \"hang tight, and we'll get back to you once we are online.\", 'in the meantime, feel free to check out our latest trends on our app.', 'stay awesome!', 'âœœï¸\\n8/27/23, 11:37â€¯am - ayusha: hey, i need help with my order 429336\\n8/27/23, 11:37â€¯am - newme: hey newmeog!', \"what's up?\", \"8/27/23, 11:37â€¯am - newme: choose your concern below and let's get them sorted!\", \"ðÿ˜ž where's my order?ðÿ¤” help with return?ðÿ“¦ refund check?ðÿ’¸ cancel my orderðÿ™…â€â™‚ï¸ talk to newme ðÿ™‹â€â™€ï¸\\n8/27/23, 11:37â€¯am - ayusha: where's my order?ðÿ¤”\\n8/27/23, 11:37â€¯am - newme: \\noh no!\", \"let's get to the bottom of this.\", 'when did you order?', \"ðÿ—“ï¸ðÿ•µï¸â€â™€ï¸\\nbutton 1: it's been a week?\", 'ðÿ‘œ\\nbutton 2: over 15 days?', 'ðÿ˜•\\n\\n8/27/23, 11:37â€¯am - ayusha: over 15 days?', \"ðÿ˜•\\n8/27/23, 11:37â€¯am - newme: we're sorry for the delay in your order.\", \"let's connect you to our support team so we can get things sorted out asap.\", 'âš¡ï¸\\n8/27/23, 11:37â€¯am - newme: please help us with your order id or phone number?', 'like the example above, your order id is a 6 digit number, mentioned in your invoice.', 'for example: 984576\\n8/27/23, 11:37â€¯am - newme: <media omitted>\\n8/27/23, 11:38â€¯am - ayusha: 429336\\n8/27/23, 11:38â€¯am - newme: thanks for sharing the details, one of our agent will reach out to you soon.', '8/27/23, 11:54â€¯am - this business is now using a secure service from meta to manage this chat.', 'tap to learn more.', '8/27/23, 11:54â€¯am - ayusha: hey, i need help with my order 429336\\n8/27/23, 1:58â€¯pm - ayusha: hey, i need help with my order 429336\\n8/27/23, 1:58â€¯pm - this business is now using a secure service from meta to manage this chat.', 'tap to learn more.', '8/27/23, 2:04â€¯pm - ayusha: hey, i need help!', '8/27/23, 4:16â€¯pm - newme: sorry for the delay in delivering your order(solid sleeveless maxi dress).', 'we faced some logistical issues with the international warehouse, which caused the delay.', 'we apologize for any inconvenience caused and request your patience for 2-7 more days.', \"we'll make sure your order is delivered soon.\", 'thank you for your understanding.', '8/28/23, 12:43â€¯pm - newme: it was a pleasure chatting with you!', 'enjoy the rest of your day.', 'hit us up if you need anything else.', \"we're here to help you out.\", \"thanks for choosing newme, you're the best!\", 'â¤ï¸\\n8/28/23, 12:43â€¯pm - newme: hopefully, our support team was able to help you with your query.', 'how would you like to rate their performance?', 'ðÿ˜ ðÿ˜„ ðÿ˜ â˜¹ï¸ ðÿ˜¡\\n8/28/23, 9:59â€¯pm - this business is now using a secure service from meta to manage this chat.', 'tap to learn more.', '8/28/23, 10:00â€¯pm - ayusha: hey, i need help with my order 429336\\n8/28/23, 10:00â€¯pm - newme: hey newmeog!', \"what's up?\", \"8/28/23, 10:00â€¯pm - newme: choose your concern below and let's get them sorted!\", \"ðÿ˜ž where's my order?ðÿ¤” help with return?ðÿ“¦ refund check?ðÿ’¸ cancel my orderðÿ™…â€â™‚ï¸ talk to newme ðÿ™‹â€â™€ï¸\\n8/28/23, 10:00â€¯pm - ayusha: where's my order?ðÿ¤”\\n8/28/23, 10:00â€¯pm - newme: \\noh no!\", \"let's get to the bottom of this.\", 'when did you order?', \"ðÿ—“ï¸ðÿ•µï¸â€â™€ï¸\\nbutton 1: it's been a week?\", 'ðÿ‘œ\\nbutton 2: over 15 days?', 'ðÿ˜•\\n\\n8/28/23, 10:00â€¯pm - ayusha: over 15 days?', \"ðÿ˜•\\n8/28/23, 10:00â€¯pm - newme: we're sorry for the delay in your order.\", \"let's connect you to our support team so we can get things sorted out asap.\", 'âš¡ï¸\\n8/28/23, 10:00â€¯pm - newme: please help us with your order id or phone number?', 'like the example above, your order id is a 6 digit number, mentioned in your invoice.', 'for example: 984576\\n\\n8/28/23, 10:00â€¯pm - newme: hey there!', 'thanks for reaching out!', \"we're currently offline.\", \"don't worry though, we'll be back at 10 am tomorrow.\", \"hang tight, and we'll get back to you once we are online.\", 'in the meantime, feel free to check out our latest trends on our app.', 'stay awesome!', 'âœœï¸\\n8/29/23, 11:51â€¯am - newme: hey!', '8/29/23, 11:51â€¯am - newme: apologies for the delay.', 'your order is facing unforeseen circumstances and a backlog in our production line.', \"it's a top priority, but there will be a 4-7 day delay.\", 'we sincerely apologize for any inconvenience caused.', 'thank you for your understanding as we resolve this situation\\n8/29/23, 11:51â€¯am - newme: is there anything else i can assist you with?', '10/10/23, 1:23â€¯pm - this business is now using a secure service from meta to manage this chat.', 'tap to learn more.', '10/12/23, 3:31â€¯pm - this business is now using a secure service from meta to manage this chat.', 'tap to learn more.', '10/15/23, 11:36â€¯am - this business is now using a secure service from meta to manage this chat.', 'tap to learn more.', '10/15/23, 11:36â€¯am - ayusha: hey, i need help with my order 579224\\n10/15/23, 11:37â€¯am - ayusha: hey, i need help with my order 579224\\n10/15/23, 11:37â€¯am - newme: hey newmeog!', \"what's up?\", \"10/15/23, 11:37â€¯am - newme: choose your concern below and let's get them sorted!\", \"ðÿ˜ž where's my order?ðÿ¤” help with return?ðÿ“¦ refund check?ðÿ’¸ cancel my orderðÿ™…â€â™‚ï¸ talk to newme ðÿ™‹â€â™€ï¸\\n10/15/23, 11:37â€¯am - ayusha: where's my order?ðÿ¤”\\n10/15/23, 11:37â€¯am - newme: \\noh no!\", \"let's get to the bottom of this.\", 'when did you order?', \"ðÿ—“ï¸ðÿ•µï¸â€â™€ï¸\\nbutton 1: it's been a week?\", 'ðÿ‘œ\\nbutton 2: over 15 days?', 'ðÿ˜•\\n\\n10/15/23, 11:37â€¯am - ayusha: over 15 days?', \"ðÿ˜•\\n10/15/23, 11:37â€¯am - newme: we're sorry for the delay in your order.\", \"let's connect you to our support team so we can get things sorted out asap.\", 'âš¡ï¸\\n10/15/23, 11:37â€¯am - newme: please help us with your order id or phone number?', 'like the example above, your order id is a 6 digit number, mentioned in your invoice.', 'for example: 984576\\n10/15/23, 11:37â€¯am - newme: <media omitted>\\n10/15/23, 11:38â€¯am - ayusha: 579224\\n10/15/23, 11:38â€¯am - newme: thanks for sharing the details, one of our agent will reach out to you soon.', '10/15/23, 11:56â€¯am - newme: hey!', 'this is preethi from newme, how can i help you today?', '10/15/23, 11:58â€¯am - ayusha: would like to know why my order has not been dispatched yet even though the quality check is over\\n10/15/23, 12:07â€¯pm - newme: hey ayusha !', 'your product has been dispatched.', 'it will be delivered between 2- 3 business days.', '10/15/23, 12:10â€¯pm - ayusha: there are 2\\n10/15/23, 12:11â€¯pm - ayusha: only 1 has been dispatched\\n10/15/23, 12:55â€¯pm - this business is now using a secure service from meta to manage this chat.', 'tap to learn more.', '10/15/23, 12:55â€¯pm - ayusha: hey, i need help with my order 579224\\n10/15/23, 12:55â€¯pm - ayusha: hey, i need help with my order 579224\\n10/15/23, 12:58â€¯pm - ayusha: hey, i need help with my order 579224\\n10/15/23, 6:55â€¯pm - this business is now using a secure service from meta to manage this chat.', 'tap to learn more.', '10/15/23, 6:55â€¯pm - ayusha: hey, i need help with my order 579224\\n10/15/23, 6:56â€¯pm - ayusha: hey, i need help with my order 579224\\n10/15/23, 7:16â€¯pm - newme: apologies for the delay in your order.', \"we've had some unexpected production issues causing a backlog.\", 'it will take 4-7 more days to ship.', \"we're sorry for any inconvenience and appreciate your patience as we work to fix this.\", 'you can expect your order to arrive by another week of time.', '10/15/23, 7:34â€¯pm - this business is now using a secure service from meta to manage this chat.', 'tap to learn more.', '10/15/23, 7:34â€¯pm - ayusha: hey, i need help with my order\\n10/15/23, 7:34â€¯pm - ayusha: talk to newme ðÿ™‹â€â™€ï¸\\n\\n10/18/23, 2:51â€¯pm - newme: hey!', 'your order has been packed and is ready to ship.', 'it would be dispatched by end of today or tomorrow and delivered \\nto you in the next 3 to 5 business days.', '10/19/23, 10:05â€¯am - this business is now using a secure service from meta to manage this chat.', 'tap to learn more.', '10/19/23, 10:05â€¯am - ayusha: hey, i need help with my order 579224\\n10/19/23, 12:13â€¯pm - this business is now using a secure service from meta to manage this chat.', 'tap to learn more.', '10/19/23, 12:13â€¯pm - ayusha: hey, i need help with my order 579224\\n10/19/23, 12:18â€¯pm - this business is now using a secure service from meta to manage this chat.', 'tap to learn more.', '10/19/23, 12:18â€¯pm - ayusha: hey, i need help with my order 579224\\n10/19/23, 3:03â€¯pm - newme: may i know what is the issue ?', '10/19/23, 3:04â€¯pm - ayusha: no dispatched yet\\n10/19/23, 3:04â€¯pm - ayusha: its already been delayed c\\n10/19/23, 3:04â€¯pm - ayusha: i was told by today it would be dispatched\\n10/20/23, 7:25â€¯pm - newme: hey!', 'sorry for the late response.', 'could you please elaborate concern on the same or can we connect on a call?', '10/20/23, 7:27â€¯pm - ayusha: call me\\n10/20/23, 8:16â€¯pm - newme: hey there!', 'how can i assist you better.', '10/20/23, 8:28â€¯pm - ayusha: my order is not dispatched\\n10/20/23, 8:29â€¯pm - ayusha: hey, i need help with my order 579224\\n10/20/23, 9:48â€¯pm - newme: hey there!', 'your order has been packed and is ready to ship.', 'it would be dispatched by end of today or tomorrow and delivered to you in the next 3 to 5 business days.', '10/20/23, 9:51â€¯pm - ayusha: for the past 4 days ive been told\\n10/20/23, 9:51â€¯pm - ayusha: today or tomorrow\\n10/20/23, 9:51â€¯pm - ayusha: and it hasnt been dispatched\\n10/20/23, 9:51â€¯pm - ayusha: why is it taking so long\\n10/20/23, 9:51â€¯pm - ayusha: to just get dispatched?', '10/21/23, 11:50â€¯am - this business is now using a secure service from meta to manage this chat.', 'tap to learn more.', '10/21/23, 11:50â€¯am - ayusha: hey, i need help with my order 579224\\n10/21/23, 11:50â€¯am - ayusha: how many times will you say it will dispatch\\n10/21/23, 11:50â€¯am - ayusha: dispatch it today\\n10/21/23, 1:18â€¯pm - this business is now using a secure service from meta to manage this chat.', 'tap to learn more.', '10/21/23, 1:18â€¯pm - ayusha: hey, i need help with my order 579224\\n10/21/23, 8:29â€¯pm - newme: hey there!', 'we always aim to fulfill your order to the highest standard possible, so you can look and feel great.', 'sometimes, due to high demand or quality issues, we may have to cancel an order, but this is rare.', \"we're constantly improving our processes to ensure a pleasant experience with us.\", 'customer service number:\"00001234\".', 'user: hi there!', \"i'm looking for a new dress for an upcoming event.\", 'can you help me find something stylish and comfortable?', 'chatbot: hello!', \"of course, i'd be happy to help you find the perfect dress.\", 'what type of event is it, and do you have any specific color or style preferences?', \"user: it's a cocktail party, and i'm thinking of something in a vibrant color, maybe red or royal blue.\", 'a knee-length dress would be great!', 'chatbot: excellent choice for a cocktail party!', 'we have a variety of knee-length dresses in vibrant colors.', 'would you prefer a fitted silhouette or something more flowy?', \"user: i think i'd like something with a bit of flow, but not too loose.\", 'and it should have sleeves, preferably short sleeves.', 'chatbot: got it!', 'how about this a-line knee-length dress in royal blue?', 'it has a subtle flow and short sleeves, perfect for a cocktail party.', 'would you like to see more details or explore other options?', 'user: that sounds promising!', 'can you show me more details, and do you have it in different sizes?', 'chatbot: certainly!', 'the dress is available in sizes xs to xl.', 'here are the details: [description, price, material].', 'what size are you looking for?', 'user: great!', \"i think i'll go for a medium size.\", 'also, do you have any accessories that would complement this dress?', 'chatbot: absolutely!', 'to complete your look, i recommend a pair of silver hoop earrings and a matching clutch.', 'would you like me to add these items to your order?', 'user: yes, please add those accessories to my order.', 'also, do you offer express shipping?', 'the event is in a week.', 'chatbot: certainly!', 'we offer express shipping options.', 'i can help you with that.', 'may i have your shipping address, please?', \"user: sure, it's [user's address].\", 'chatbot: thank you!', 'your order has been successfully placed with express shipping.', 'you should receive it by [delivery date].', 'if you have any more questions or need assistance, feel free to ask.', 'enjoy your cocktail party!', 'user: thank you so much for your help!', 'i appreciate it.', \"chatbot: you're welcome!\", 'if you have any more questions in the future, feel free to reach out.', 'have a great day!', \"user: hi, i'm having trouble placing an order on your website.\", 'can you help?', 'chatbot: of course!', \"i'm sorry to hear you're having issues.\", \"can you provide more details about the problem you're experiencing?\", \"user: whenever i try to add items to my cart, it gives me an error message and doesn't let me proceed to checkout.\", 'chatbot: i apologize for the inconvenience.', 'it seems like there might be a technical issue.', \"could you please let me know which items you're trying to add to your cart and if you're receiving any specific error messages?\", \"user: i'm trying to add a pair of jeans and a t-shirt.\", 'the error message says, \"item not available at this time.\"', 'chatbot: thank you for providing that information.', 'let me check the availability of the items in our inventory.', 'please bear with me for a moment.', '[chatbot checks inventory]\\n\\nchatbot: i appreciate your patience.', 'it seems that the jeans in the size you selected are currently out of stock.', 'however, the t-shirt is available.', \"would you like to proceed with purchasing the available item, or is there an alternative you'd like to explore?\", 'user: oh, that explains it.', 'can you recommend another pair of jeans similar to the one i wanted, but in stock?', 'chatbot: certainly!', 'how about these slim-fit jeans in a similar style?', \"they're available in various sizes.\", 'would you like to take a look, or is there a specific style you have in mind?', 'user: those look great!', \"i'll go with the slim-fit jeans.\", 'can you add them to my cart?', 'chatbot: absolutely!', \"i've added the slim-fit jeans to your cart.\", \"is there anything else you'd like to add, or are you ready to proceed to checkout?\", \"user: that's all for now.\", \"i'm ready to check out.\", 'chatbot: great!', \"please review your order, and when you're ready, click on the checkout button.\", 'if you encounter any issues during the process, feel free to let me know.', '[user proceeds to checkout]\\n\\nchatbot: wonderful!', 'your order has been successfully placed.', 'you should receive a confirmation email shortly.', 'if you have any more questions or need further assistance, feel free to reach out.', 'thank you for shopping with us!', 'user: thank you for your help!', 'i appreciate it.', \"chatbot: you're welcome!\", \"if you have any more questions in the future, don't hesitate to ask.\", 'have a fantastic day!', \"user: hi, i placed an order a week ago, but i haven't received any updates on the shipping or dispatch status.\", 'can you help me with that?', 'chatbot: hello!', \"i'm sorry to hear about the delay in receiving updates on your order.\", \"i'll do my best to assist you.\", 'may i have your order number, please?', 'user: sure, my order number is #123456.\\n\\nchatbot: thank you for providing the order number.', 'let me check the status of your order.', 'please bear with me for a moment.', '[chatbot checks the order status]\\n\\nchatbot: i appreciate your patience.', 'it seems that your order is still in processing and has not been dispatched yet.', 'i apologize for any inconvenience this may have caused.', \"i'll look into this matter further for you.\", 'user: i need the items in my order by the end of this week for a special event.', 'is there any way to expedite the dispatch or get more information on when it will be shipped?', 'chatbot: i understand the urgency, and i apologize for the inconvenience.', \"i'll escalate this issue to our dispatch team and inquire about the possibility of expediting your order.\", 'while i do that, could you please confirm your contact number?', 'we may need to reach out to you for any additional information.', \"user: sure, my contact number is [user's phone number].\", 'chatbot: thank you!', \"i'll prioritize this and get back to you as soon as i have more information.\", 'in the meantime, is there anything else i can assist you with?', \"user: no, that's all for now.\", 'i appreciate your help.', \"chatbot: you're welcome.\", \"i understand the importance of your order, and i'll do my best to resolve this promptly.\", 'if you have any more questions or concerns, feel free to reach out.', \"i'll be in touch with updates on your order as soon as possible.\", 'thank you for your patience.', '[chatbot escalates the issue to the dispatch team and follows up with the user once more information is available.]', \"user: hi, i'm checking in to get an update on the status of my order.\", \"it's been a while since i placed it.\", 'chatbot: hello!', \"i'd be happy to help you with that.\", 'could you please provide me with your order number?', 'user: sure, my order number is #789012.\\n\\nchatbot: thank you for providing the order number.', 'let me check the status of your order for you.', 'please give me a moment.', '[chatbot checks the order status]\\n\\nchatbot: thank you for your patience.', \"i've checked the status of order #789012. it appears that your order is currently in transit and is expected to be delivered by [delivery date].\", 'if you have a tracking number, you can use it to monitor the real-time progress of your shipment.', 'user: oh, great!', 'i was getting a bit worried.', 'can you provide the tracking number so i can keep an eye on it?', 'chatbot: certainly!', 'your tracking number is trk123456789.', \"you can use this number on our website or the courier's website to track the exact location and delivery status of your order.\", 'user: perfect, thank you!', 'is there anything else i need to know about my order?', 'chatbot: your order is on track, and you should receive it by the estimated delivery date.', \"if you have any more questions or if there's anything else i can assist you with, feel free to let me know.\", \"user: that's all for now.\", 'i appreciate your help!', \"chatbot: you're welcome!\", \"if you have any further questions or need assistance in the future, don't hesitate to reach out.\", 'thank you for choosing our services, and i hope you enjoy your order!', 'order number is 1001 item is blue t-shirt quantity is 2 unitprice is â‚¹500 ordervalue is â‚¹1000 status is shipped.', 'order number is 1002 item is slim-fit jeans quantity is 1 unitprice is â‚¹2000 ordervalue is â‚¹2000 status is processing.', 'order number is 1003 item is sneakers quantity is 1 unitprice is â‚¹1500 ordervalue is â‚¹1500 status is delivered.', 'order number is 1004 item is summer dress quantity is 1 unitprice is â‚¹800 ordervalue is â‚¹800 status is pending payment.', 'order number is 1005 item is leather jacket quantity is 1 unitprice is â‚¹5000 ordervalue is â‚¹5000 status is shipped.', 'order number is 1006 item is hoodie quantity is 2 unitprice is â‚¹1000 ordervalue is â‚¹2000 status is processing.', 'order number is 1007 item is running shoes quantity is 1 unitprice is â‚¹1200 ordervalue is â‚¹1200 status is shipped.', 'order number is 1008 item is denim shorts quantity is 1 unitprice is â‚¹600 ordervalue is â‚¹600 status is processing.', 'order number is 1009 item is sunglasses quantity is 1 unitprice is â‚¹300 ordervalue is â‚¹300 status is delivered.', 'order number is 1010 item is backpack quantity is 1 unitprice is â‚¹1500 ordervalue is â‚¹1500 status is shipped.', 'order number is 1011 item is striped shirt quantity is 1 unitprice is â‚¹800 ordervalue is â‚¹800 status is delivered.', 'order number is 1012 item is cargo pants quantity is 1 unitprice is â‚¹1200 ordervalue is â‚¹1200 status is processing.', 'order number is 1013 item is tank top quantity is 3 unitprice is â‚¹400 ordervalue is â‚¹1200 status is shipped.', 'order number is 1014 item is ankle boots quantity is 1 unitprice is â‚¹2500 ordervalue is â‚¹2500 status is processing.', 'order number is 1015 item is maxi skirt quantity is 1 unitprice is â‚¹600 ordervalue is â‚¹600 status is delivered']\n"
     ]
    }
   ],
   "source": [
    "print(sentence_tokens)"
   ]
  },
  {
   "cell_type": "code",
   "execution_count": 8,
   "metadata": {},
   "outputs": [
    {
     "data": {
      "text/plain": [
       "[]"
      ]
     },
     "execution_count": 8,
     "metadata": {},
     "output_type": "execute_result"
    }
   ],
   "source": [
    "def recognize_names_with_nltk(text):\n",
    "  with suppress(UserWarning):\n",
    "    sentences = sent_tokenize(text)\n",
    "    words = [word_tokenize(sent) for sent in sentences]\n",
    "\n",
    "    tagged_words = [pos_tag(word) for word in words]\n",
    "\n",
    "    named_entities = []\n",
    "    for tagged_sentence in tagged_words:\n",
    "        chunked_sentence = ne_chunk(tagged_sentence, binary=False)\n",
    "        for subtree in chunked_sentence:\n",
    "            if type(subtree) == nltk.Tree:\n",
    "                entity = \" \".join([word for word, tag in subtree.leaves()])\n",
    "                label = subtree.label()\n",
    "                named_entities.append((entity, label))\n",
    "\n",
    "    return named_entities\n",
    "\n",
    "recognize_names_with_nltk(raw_doc)"
   ]
  },
  {
   "cell_type": "code",
   "execution_count": 9,
   "metadata": {},
   "outputs": [],
   "source": [
    "lemmer = nltk.stem.WordNetLemmatizer()\n",
    "def LemTokens(tokens):\n",
    "  return [lemmer.lemmatize(token) for token in tokens]\n",
    "remove_punc_dict = dict((ord(punct), None) for punct in string.punctuation)\n",
    "def LemNormalize(text):\n",
    "  return LemTokens(nltk.word_tokenize(text.lower().translate(remove_punc_dict)))"
   ]
  },
  {
   "cell_type": "code",
   "execution_count": 10,
   "metadata": {},
   "outputs": [],
   "source": [
    "import re\n",
    "\n",
    "greet_inputs = re.compile(r'(?i)(hello|hi|whatsup|how are you|hey|good evening|greetings|howdy|salutations)')\n",
    "\n",
    "def greet(sentence):\n",
    "  match = greet_inputs.search(sentence)\n",
    "  if match:\n",
    "    greeting = random.choice([\"Hello\", \"Hi\", \"Hey\", \"Hey there\",\"Greetings\",\"Aloha\",\"Good Afternoon\"])\n",
    "    return greeting.format(user_name=\"User\")\n",
    "  else:\n",
    "    return None"
   ]
  },
  {
   "cell_type": "code",
   "execution_count": 11,
   "metadata": {},
   "outputs": [],
   "source": [
    "import re\n",
    "\n",
    "greet_inputs = re.compile(r'(?i)(hello|hi|whatsup|how are you|hey|good evening|greetings|howdy|salutations)')\n",
    "\n",
    "def greet(sentence):\n",
    "  match = greet_inputs.search(sentence)\n",
    "  if match:\n",
    "    greeting = random.choice([\"Hello\", \"Hi\", \"Hey\", \"Hey there\",\"Greetings\",\"Aloha\",\"Good Afternoon\"])\n",
    "    return greeting.format(user_name=\"User\")\n",
    "  else:\n",
    "    return None"
   ]
  },
  {
   "cell_type": "code",
   "execution_count": 12,
   "metadata": {},
   "outputs": [],
   "source": [
    "with suppress(UserWarning):\n",
    "  from sklearn.feature_extraction.text import TfidfVectorizer\n",
    "  from sklearn.metrics.pairwise import cosine_similarity"
   ]
  },
  {
   "cell_type": "code",
   "execution_count": 13,
   "metadata": {},
   "outputs": [],
   "source": [
    "def response(user_response):\n",
    "  with suppress(UserWarning):\n",
    "    bot_response = \"\"\n",
    "    TfidfVec = TfidfVectorizer(tokenizer = LemNormalize, stop_words = 'english')\n",
    "    tfidf = TfidfVec.fit_transform(sentence_tokens)\n",
    "    vals = cosine_similarity(tfidf[-1], tfidf)\n",
    "    idx = vals.argsort()[0][-2]\n",
    "    flat = vals.flatten()\n",
    "    flat.sort()\n",
    "    req_tfidf = flat[-2]\n",
    "    if (req_tfidf == 0):\n",
    "        bot_response = bot_response + \"I am sorry. Unable to understand you!\"\n",
    "        return bot_response\n",
    "    else:\n",
    "        bot_response = bot_response + sentence_tokens[idx]\n",
    "        return bot_response"
   ]
  },
  {
   "cell_type": "code",
   "execution_count": 14,
   "metadata": {},
   "outputs": [],
   "source": [
    "spell = SpellChecker()\n",
    "\n",
    "def correct_typos(text):\n",
    "    words = text.split()\n",
    "    corrected_words = []\n",
    "\n",
    "    for word in words:\n",
    "        corrected_word = spell.correction(word)\n",
    "        corrected_words.append(corrected_word)\n",
    "\n",
    "    corrected_text = ' '.join(corrected_words)\n",
    "    return corrected_text"
   ]
  },
  {
   "cell_type": "code",
   "execution_count": 15,
   "metadata": {},
   "outputs": [],
   "source": [
    "# def ask_for_feedback():\n",
    "#     feedback = input(\"Bot: How would you rate the conversation on a scale of 1 to 5? (1 being poor, 5 being excellent): \")\n",
    "#     try:\n",
    "#         rating = int(feedback)\n",
    "#         if 1 <= rating <= 5:\n",
    "#             print(f\"Bot: Thank you for your feedback! You rated the conversation {rating}/5.\")\n",
    "#         else:\n",
    "#             print(\"Bot: Invalid rating. Please provide a rating between 1 and 5.\")\n",
    "#     except ValueError:\n",
    "#         print(\"Bot: Invalid input. Please enter a number between 1 and 5.\")\n"
   ]
  },
  {
   "cell_type": "code",
   "execution_count": 16,
   "metadata": {},
   "outputs": [
    {
     "name": "stdout",
     "output_type": "stream",
     "text": [
      "Hello! I am the learning Bot. Start typing your text after greeting to talk to me. For ending convo type bye\n"
     ]
    }
   ],
   "source": [
    "flag= True\n",
    "print(\"Hello! I am the learning Bot. Start typing your text after greeting to talk to me. For ending convo type bye\")\n",
    "while(flag == True):\n",
    "  with suppress(UserWarning):\n",
    "    user_response = input()\n",
    "    user_response = user_response.lower()\n",
    "    user_response = correct_typos(user_response)\n",
    "    if(user_response !='bye'):\n",
    "      if(user_response =='thank you' or user_response == 'thanks'):\n",
    "        flag = True\n",
    "        print(\"Bot: You are welcome, can I help you with any thing else?\")\n",
    "      elif(user_response =='yes'):\n",
    "        flag = True\n",
    "        print(\"Elaborate your problem please\")\n",
    "      elif(user_response =='no' or user_response == 'no,thanks'):\n",
    "        flag = False\n",
    "        print(\"Alright\")\n",
    "        ask_for_feedback()\n",
    "      else:\n",
    "        if(greet(user_response) != None):\n",
    "          print('Bot: ' +greet(user_response))\n",
    "        else:\n",
    "          sentence_tokens.append(user_response)\n",
    "          word_tokens = word_tokens + nltk.word_tokenize(user_response)\n",
    "          final_words = list(set(word_tokens))\n",
    "          print('Bot: ', end = '')\n",
    "          print(response(user_response))\n",
    "          sentence_tokens.remove(user_response)\n",
    "    else:\n",
    "      flag = False\n",
    "      print('Bot: Goodbye!')\n",
    "      # ask_for_feedback()"
   ]
  }
 ],
 "metadata": {
  "kernelspec": {
   "display_name": "Python 3",
   "language": "python",
   "name": "python3"
  },
  "language_info": {
   "codemirror_mode": {
    "name": "ipython",
    "version": 3
   },
   "file_extension": ".py",
   "mimetype": "text/x-python",
   "name": "python",
   "nbconvert_exporter": "python",
   "pygments_lexer": "ipython3",
   "version": "3.12.0"
  }
 },
 "nbformat": 4,
 "nbformat_minor": 2
}
